{
 "cells": [
  {
   "cell_type": "code",
   "execution_count": 1,
   "id": "7e3c6dbc",
   "metadata": {},
   "outputs": [],
   "source": [
    "import requests\n",
    "import tkinter as tk\n",
    "\n",
    "# API endpoint and app ID\n",
    "ENDPOINT = 'https://openexchangerates.org/api/latest.json'\n",
    "APP_ID = '5de58349386f46c29e39406297f58a0f'\n",
    "\n",
    "# Create a GUI window\n",
    "root = tk.Tk()\n",
    "root.title('Arham`s Currency Converter')\n",
    "\n",
    "# Create a label and entry for the amount to convert\n",
    "amount_label = tk.Label(root, text='Amount:')\n",
    "amount_label.pack(side=tk.LEFT, padx=5, pady=5)\n",
    "amount_entry = tk.Entry(root)\n",
    "amount_entry.pack(side=tk.LEFT, padx=5, pady=5)\n",
    "\n",
    "# Create a label and dropdown for the source currency\n",
    "source_label = tk.Label(root, text='From:')\n",
    "source_label.pack(side=tk.LEFT, padx=5, pady=5)\n",
    "source_var = tk.StringVar()\n",
    "source_dropdown = tk.OptionMenu(root, source_var, 'USD', 'EUR', 'GBP', 'JPY')\n",
    "source_dropdown.pack(side=tk.LEFT, padx=5, pady=5)\n",
    "\n",
    "# Create a label and dropdown for the target currency\n",
    "target_label = tk.Label(root, text='To:')\n",
    "target_label.pack(side=tk.LEFT, padx=5, pady=5)\n",
    "target_var = tk.StringVar()\n",
    "target_dropdown = tk.OptionMenu(root, target_var, 'USD', 'EUR', 'GBP', 'JPY')\n",
    "target_dropdown.pack(side=tk.LEFT, padx=5, pady=5)\n",
    "\n",
    "# Create a button to perform the conversion\n",
    "def convert():\n",
    "    amount = float(amount_entry.get())\n",
    "    source = source_var.get()\n",
    "    target = target_var.get()\n",
    "    response = requests.get(f'{ENDPOINT}?app_id={APP_ID}&base={source}&symbols={target}')\n",
    "    data = response.json()\n",
    "    rate = data['rates'][target]\n",
    "    result = amount * rate\n",
    "    result_label.config(text=f'{result:.2f}')\n",
    "\n",
    "convert_button = tk.Button(root, text='Convert', command=convert)\n",
    "convert_button.pack(side=tk.LEFT, padx=5, pady=5)\n",
    "\n",
    "# Create a label to display the result\n",
    "result_label = tk.Label(root, text='')\n",
    "result_label.pack(side=tk.LEFT, padx=5, pady=5)\n",
    "\n",
    "# Run the GUI main loop\n",
    "root.mainloop()\n"
   ]
  },
  {
   "cell_type": "code",
   "execution_count": null,
   "id": "25430045",
   "metadata": {},
   "outputs": [],
   "source": []
  }
 ],
 "metadata": {
  "kernelspec": {
   "display_name": "Python 3 (ipykernel)",
   "language": "python",
   "name": "python3"
  },
  "language_info": {
   "codemirror_mode": {
    "name": "ipython",
    "version": 3
   },
   "file_extension": ".py",
   "mimetype": "text/x-python",
   "name": "python",
   "nbconvert_exporter": "python",
   "pygments_lexer": "ipython3",
   "version": "3.9.12"
  }
 },
 "nbformat": 4,
 "nbformat_minor": 5
}
